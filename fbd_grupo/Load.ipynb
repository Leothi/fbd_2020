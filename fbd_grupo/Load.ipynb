{
 "cells": [
  {
   "cell_type": "code",
   "execution_count": 1,
   "metadata": {},
   "outputs": [],
   "source": [
    "import timeit\n",
    "\n",
    "import pandas as pd\n",
    "import mysql.connector"
   ]
  },
  {
   "cell_type": "markdown",
   "metadata": {},
   "source": [
    "# Carregamento"
   ]
  },
  {
   "cell_type": "code",
   "execution_count": 2,
   "metadata": {
    "scrolled": true
   },
   "outputs": [],
   "source": [
    "df_viagem = pd.read_csv('./dataset/gerados/viagem.csv')\n",
    "df_passagem = pd.read_csv('./dataset/gerados/passagem.csv')\n",
    "df_pagamento = pd.read_csv('./dataset/gerados/pagamento.csv')\n",
    "df_cpf = pd.read_csv('./dataset/gerados/cpf.csv')\n",
    "df_puc = pd.read_csv('./dataset/gerados/puc.csv')\n",
    "df_paises = pd.read_csv('./dataset/gerados/paises.csv')\n",
    "df_uf = pd.read_csv('./dataset/gerados/uf.csv')\n",
    "df_cidades = pd.read_csv('./dataset/gerados/cidades.csv')\n",
    "df_pessoa = pd.read_csv('./dataset/gerados/pessoa.csv')\n",
    "df_cargo = pd.read_csv('./dataset/gerados/cargo.csv')\n",
    "df_funcao = pd.read_csv('./dataset/gerados/funcao.csv')\n",
    "df_ministerios = pd.read_csv('./dataset/gerados/ministerio.csv')\n",
    "df_meio = pd.read_csv('./dataset/gerados/meio.csv')"
   ]
  },
  {
   "cell_type": "code",
   "execution_count": 3,
   "metadata": {
    "scrolled": true
   },
   "outputs": [],
   "source": [
    "df_viagem = df_viagem.drop_duplicates(subset=['id_viagem'])"
   ]
  },
  {
   "cell_type": "markdown",
   "metadata": {},
   "source": [
    "# ETL"
   ]
  },
  {
   "cell_type": "code",
   "execution_count": 30,
   "metadata": {},
   "outputs": [],
   "source": [
    "cnx = mysql.connector.connect(user='root', password='root',\n",
    "                              host='localhost',\n",
    "                              database='VIAGENS_DB')"
   ]
  },
  {
   "cell_type": "code",
   "execution_count": 31,
   "metadata": {},
   "outputs": [],
   "source": [
    "cursor = cnx.cursor()"
   ]
  },
  {
   "cell_type": "code",
   "execution_count": 6,
   "metadata": {},
   "outputs": [],
   "source": [
    "# Para 2 campos: ID(padrao) e NOME\n",
    "dict_colunas = {'PAIS': df_paises,\n",
    "                'CIDADE': df_cidades, \n",
    "                'UF': df_uf, \n",
    "                'MEIO_TRANSPORTE': df_meio, \n",
    "                'CARGO': df_cargo,\n",
    "               }"
   ]
  },
  {
   "cell_type": "code",
   "execution_count": 7,
   "metadata": {},
   "outputs": [
    {
     "name": "stdout",
     "output_type": "stream",
     "text": [
      "PAIS\n",
      "CIDADE\n",
      "UF\n",
      "MEIO_TRANSPORTE\n",
      "CARGO\n",
      "CPU times: user 38.6 ms, sys: 28.3 ms, total: 66.9 ms\n",
      "Wall time: 177 ms\n"
     ]
    }
   ],
   "source": [
    "%%time\n",
    "for name, df in dict_colunas.items():\n",
    "    print(name)\n",
    "    for _, row in enumerate(df.itertuples()):\n",
    "        query = f\"INSERT INTO {name} \"\\\n",
    "                 f\"(NOME)\" \\\n",
    "                 f\"VALUES ({row.nome!r})\"\n",
    "        cursor.execute(query)"
   ]
  },
  {
   "cell_type": "code",
   "execution_count": 8,
   "metadata": {},
   "outputs": [],
   "source": [
    "cnx.commit()"
   ]
  },
  {
   "cell_type": "code",
   "execution_count": 9,
   "metadata": {},
   "outputs": [
    {
     "name": "stdout",
     "output_type": "stream",
     "text": [
      "CPU times: user 1.92 ms, sys: 296 µs, total: 2.22 ms\n",
      "Wall time: 3.92 ms\n"
     ]
    }
   ],
   "source": [
    "%%time\n",
    "# Ministerio\n",
    "for _, row in enumerate(df_ministerios.itertuples()):\n",
    "    query = f\"INSERT INTO MINISTERIO\"\\\n",
    "             f\"(ID_MINISTERIO, NOME)\" \\\n",
    "             f\"VALUES ({row.id_ministerio!r}, {row.nome!r})\"\n",
    "    cursor.execute(query)"
   ]
  },
  {
   "cell_type": "code",
   "execution_count": 10,
   "metadata": {},
   "outputs": [],
   "source": [
    "cnx.commit()"
   ]
  },
  {
   "cell_type": "code",
   "execution_count": 11,
   "metadata": {
    "scrolled": true
   },
   "outputs": [
    {
     "name": "stdout",
     "output_type": "stream",
     "text": [
      "CPU times: user 2 µs, sys: 0 ns, total: 2 µs\n",
      "Wall time: 4.53 µs\n"
     ]
    }
   ],
   "source": [
    "%%time\n",
    "# Pessoa\n",
    "for _, row in enumerate(df_pessoa.itertuples()):\n",
    "    query = f\"INSERT INTO PESSOA\"\\\n",
    "             f\"(NOME, CPF)\" \\\n",
    "             f\"VALUES ({row.nome!r}, {row.cpf!r})\"\n",
    "    cursor.execute(query)"
   ]
  },
  {
   "cell_type": "code",
   "execution_count": 12,
   "metadata": {},
   "outputs": [],
   "source": [
    "cnx.commit()"
   ]
  },
  {
   "cell_type": "code",
   "execution_count": 14,
   "metadata": {},
   "outputs": [
    {
     "name": "stdout",
     "output_type": "stream",
     "text": [
      "CPU times: user 5.71 ms, sys: 0 ns, total: 5.71 ms\n",
      "Wall time: 12.8 ms\n"
     ]
    }
   ],
   "source": [
    "%%time\n",
    "# Funcao\n",
    "for _, row in enumerate(df_funcao.itertuples()):\n",
    "    query = f\"INSERT INTO FUNCAO\"\\\n",
    "             f\"(NOME, DESCRICAO)\" \\\n",
    "             f\"VALUES ({row.nome!r}, {row.descricao!r})\"\n",
    "    cursor.execute(query)"
   ]
  },
  {
   "cell_type": "code",
   "execution_count": 15,
   "metadata": {},
   "outputs": [],
   "source": [
    "cnx.commit()"
   ]
  },
  {
   "cell_type": "code",
   "execution_count": 16,
   "metadata": {
    "scrolled": true
   },
   "outputs": [
    {
     "name": "stdout",
     "output_type": "stream",
     "text": [
      "CPU times: user 2.85 s, sys: 1.19 s, total: 4.04 s\n",
      "Wall time: 12.1 s\n"
     ]
    }
   ],
   "source": [
    "%%time\n",
    "# CPF\n",
    "for _, row in enumerate(df_cpf.itertuples()):\n",
    "    query = f\"INSERT INTO PESSOA_CARGO_FUNCAO\"\\\n",
    "             f\"(ID_PESSOA, ID_FUNCAO, ID_CARGO)\" \\\n",
    "             f\"VALUES ({row.id_pessoa!r}, {row.id_funcao!r}, {row.id_cargo!r})\"\n",
    "    cursor.execute(query)"
   ]
  },
  {
   "cell_type": "code",
   "execution_count": 17,
   "metadata": {},
   "outputs": [],
   "source": [
    "cnx.commit()"
   ]
  },
  {
   "cell_type": "code",
   "execution_count": 18,
   "metadata": {},
   "outputs": [
    {
     "name": "stdout",
     "output_type": "stream",
     "text": [
      "CPU times: user 17.3 ms, sys: 8.69 ms, total: 26 ms\n",
      "Wall time: 73.8 ms\n"
     ]
    }
   ],
   "source": [
    "%%time\n",
    "# PUC\n",
    "for _, row in enumerate(df_puc.itertuples()):\n",
    "    query = f\"INSERT INTO PAIS_CIDADE_UF\"\\\n",
    "             f\"(ID_PAIS, ID_UF, ID_CIDADE)\" \\\n",
    "             f\"VALUES ({row.id_pais!r}, {row.id_uf!r}, {row.id_cidade!r})\"\n",
    "    cursor.execute(query)"
   ]
  },
  {
   "cell_type": "code",
   "execution_count": 19,
   "metadata": {},
   "outputs": [],
   "source": [
    "cnx.commit()"
   ]
  },
  {
   "cell_type": "code",
   "execution_count": 20,
   "metadata": {},
   "outputs": [
    {
     "name": "stdout",
     "output_type": "stream",
     "text": [
      "CPU times: user 8.71 s, sys: 3.64 s, total: 12.4 s\n",
      "Wall time: 37.6 s\n"
     ]
    }
   ],
   "source": [
    "%%time\n",
    "# VIAGEM\n",
    "for _, row in enumerate(df_viagem.itertuples()):\n",
    "    query = f\"INSERT INTO VIAGEM\"\\\n",
    "             f\"(ID_VIAGEM, IS_REALIZADO, IS_URGENTE, DATA_INICIO, DATA_FIM, ID_MINISTERIO, ID_PESSOA_CARGO_FUNCAO)\" \\\n",
    "             f\"VALUES ({row.id_viagem!r}, {row.is_realizado!r}, {row.is_urgente!r}, {row.data_inicio!r}, {row.data_fim!r}, {row.id_ministerio!r}, {row.id_cpf!r})\"\n",
    "    cursor.execute(query)"
   ]
  },
  {
   "cell_type": "code",
   "execution_count": 21,
   "metadata": {},
   "outputs": [],
   "source": [
    "cnx.commit()"
   ]
  },
  {
   "cell_type": "code",
   "execution_count": 23,
   "metadata": {},
   "outputs": [
    {
     "name": "stdout",
     "output_type": "stream",
     "text": [
      "CPU times: user 2.75 s, sys: 1.18 s, total: 3.93 s\n",
      "Wall time: 12.5 s\n"
     ]
    }
   ],
   "source": [
    "%%time\n",
    "# PASSAGEM\n",
    "for _, row in enumerate(df_passagem.itertuples()):\n",
    "    query = f\"INSERT INTO PASSAGEM\"\\\n",
    "             f\"(ID_VIAGEM, ID_MEIO_TRANSPORTE, ID_PAIS_CIDADE_UF_ORIGEM_IDA, ID_PAIS_CIDADE_UF_DESTINO_IDA, ID_PAIS_CIDADE_UF_ORIGEM_VOLTA, ID_PAIS_CIDADE_UF_DESTINO_VOLTA)\" \\\n",
    "             f\"VALUES ({row.id_viagem!r}, {row.id_meio!r}, {row.id_puc_origem_ida!r}, {row.id_puc_destino_ida!r}, {row.id_puc_origem_volta!r}, {row.id_puc_destino_volta!r})\"\n",
    "    cursor.execute(query)"
   ]
  },
  {
   "cell_type": "code",
   "execution_count": 24,
   "metadata": {},
   "outputs": [],
   "source": [
    "cnx.commit()"
   ]
  },
  {
   "cell_type": "code",
   "execution_count": 32,
   "metadata": {
    "scrolled": true
   },
   "outputs": [
    {
     "name": "stdout",
     "output_type": "stream",
     "text": [
      "CPU times: user 43.3 s, sys: 6.4 s, total: 49.7 s\n",
      "Wall time: 3h 10min 49s\n"
     ]
    }
   ],
   "source": [
    "%%time\n",
    "# Pagamento\n",
    "for _, row in enumerate(df_pagamento.itertuples()):\n",
    "    print(_, end='\\r')\n",
    "    query = f\"INSERT INTO PAGAMENTO\"\\\n",
    "             f\"(VALOR, TAXA, ID_PASSAGEM)\" \\\n",
    "             f\"VALUES ({row.valor!r}, {row.taxa!r}, {row.id_passagem!r})\"\n",
    "    cursor.execute(query)"
   ]
  },
  {
   "cell_type": "code",
   "execution_count": 33,
   "metadata": {},
   "outputs": [],
   "source": [
    "cnx.commit()"
   ]
  },
  {
   "cell_type": "code",
   "execution_count": 28,
   "metadata": {},
   "outputs": [],
   "source": [
    "cursor.reset()"
   ]
  },
  {
   "cell_type": "code",
   "execution_count": 29,
   "metadata": {},
   "outputs": [],
   "source": [
    "cnx.close()"
   ]
  }
 ],
 "metadata": {
  "kernelspec": {
   "display_name": "Python 3",
   "language": "python",
   "name": "python3"
  },
  "language_info": {
   "codemirror_mode": {
    "name": "ipython",
    "version": 3
   },
   "file_extension": ".py",
   "mimetype": "text/x-python",
   "name": "python",
   "nbconvert_exporter": "python",
   "pygments_lexer": "ipython3",
   "version": "3.8.5"
  }
 },
 "nbformat": 4,
 "nbformat_minor": 4
}
